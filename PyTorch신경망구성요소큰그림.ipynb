{
  "nbformat": 4,
  "nbformat_minor": 0,
  "metadata": {
    "colab": {
      "provenance": [],
      "authorship_tag": "ABX9TyNZWBJIfMM80Euh1kgs99ED",
      "include_colab_link": true
    },
    "kernelspec": {
      "name": "python3",
      "display_name": "Python 3"
    },
    "language_info": {
      "name": "python"
    }
  },
  "cells": [
    {
      "cell_type": "markdown",
      "metadata": {
        "id": "view-in-github",
        "colab_type": "text"
      },
      "source": [
        "<a href=\"https://colab.research.google.com/github/poietes5150/SuperCoding/blob/main/PyTorch%EC%8B%A0%EA%B2%BD%EB%A7%9D%EA%B5%AC%EC%84%B1%EC%9A%94%EC%86%8C%ED%81%B0%EA%B7%B8%EB%A6%BC.ipynb\" target=\"_parent\"><img src=\"https://colab.research.google.com/assets/colab-badge.svg\" alt=\"Open In Colab\"/></a>"
      ]
    },
    {
      "cell_type": "markdown",
      "source": [
        "# PyTorch 신경망 구성 요소 완전 정리\n",
        "PyTorch의 신경망을 구성하는 핵심요소인 Autograd, nn.Module, Loss Function, Optimizer, DataLoader의 역할과 흐름을 직접 코드 예제와 함께 설명합니다.\n",
        "\n",
        "\n",
        "*   전체 구조 흐름 요약\n",
        "\n",
        "\n",
        "```\n",
        "[입력 데이터] -> [DataLoader] -> [nn.Module 모델] -> [Loss 계산] -> [Autograd로 역전파] -> [Optimizer로 파라미터 업데이트]\n",
        "```\n",
        "\n",
        "\n",
        "\n"
      ],
      "metadata": {
        "id": "X1CxyW4NOc-R"
      }
    },
    {
      "cell_type": "markdown",
      "source": [
        "# 1. Autograd (자동 미분)"
      ],
      "metadata": {
        "id": "kHmUYVDTPGI0"
      }
    },
    {
      "cell_type": "code",
      "execution_count": 6,
      "metadata": {
        "colab": {
          "base_uri": "https://localhost:8080/"
        },
        "id": "B5tH4odROUwy",
        "outputId": "36f2817a-3fe7-4155-bf81-e36920fae8b8"
      },
      "outputs": [
        {
          "output_type": "stream",
          "name": "stdout",
          "text": [
            "x의 기울기 (dy/dx): 7.0\n"
          ]
        }
      ],
      "source": [
        "import torch\n",
        "x = torch.tensor(2.0, requires_grad=True)\n",
        "y = x**2 + 3 * x + 1\n",
        "y.backward()\n",
        "print(f\"x의 기울기 (dy/dx): {x.grad}\")"
      ]
    },
    {
      "cell_type": "markdown",
      "source": [
        "# 2. nn.Module (신경망 정의)"
      ],
      "metadata": {
        "id": "F-kcE4yKPrXG"
      }
    },
    {
      "cell_type": "code",
      "source": [
        "import torch.nn as nn\n",
        "class MyNet(nn.Module):\n",
        "    def __init__(self):\n",
        "        super().__init__()\n",
        "        self.linear = nn.Linear(2, 1)\n",
        "\n",
        "    def forward(self, x):\n",
        "      return torch.sigmoid(self.linear(x))\n",
        "\n",
        "model = MyNet()\n",
        "print(model)"
      ],
      "metadata": {
        "colab": {
          "base_uri": "https://localhost:8080/"
        },
        "id": "DAHj8uWJPwxp",
        "outputId": "fead86f3-aa80-4b69-9fab-4b0eb3842e96"
      },
      "execution_count": 7,
      "outputs": [
        {
          "output_type": "stream",
          "name": "stdout",
          "text": [
            "MyNet(\n",
            "  (linear): Linear(in_features=2, out_features=1, bias=True)\n",
            ")\n"
          ]
        }
      ]
    },
    {
      "cell_type": "markdown",
      "source": [
        "# 3. Loss Function (손실 함수)"
      ],
      "metadata": {
        "id": "7eql3W-NQFWy"
      }
    },
    {
      "cell_type": "code",
      "source": [
        "loss_fn = nn.MSELoss()\n",
        "input = torch.tensor([[1.0, 2.0]])\n",
        "target = torch.tensor([[0.5]])\n",
        "output = model(input)\n",
        "loss = loss_fn(output, target)\n",
        "print(f\"예측값: {output.item()}\")\n",
        "print(f\"손실값 (Loss): {loss.item()}\")"
      ],
      "metadata": {
        "colab": {
          "base_uri": "https://localhost:8080/"
        },
        "id": "821q5aFpQIEL",
        "outputId": "bdddf3e8-ec61-42e6-971f-926a8caed194"
      },
      "execution_count": 8,
      "outputs": [
        {
          "output_type": "stream",
          "name": "stdout",
          "text": [
            "예측값: 0.6574522256851196\n",
            "손실값 (Loss): 0.024791203439235687\n"
          ]
        }
      ]
    },
    {
      "cell_type": "markdown",
      "source": [
        "# 4. Optimizer (옵티마이저)"
      ],
      "metadata": {
        "id": "nwXqGrtzQgNI"
      }
    },
    {
      "cell_type": "code",
      "source": [
        "import torch.optim as optim\n",
        "optimizer = optim.SGD(model.parameters(), lr=0.01)\n",
        "optimizer.zero_grad()\n",
        "loss.backward()\n",
        "optimizer.step()"
      ],
      "metadata": {
        "id": "kEALNmBrQjHy"
      },
      "execution_count": 9,
      "outputs": []
    },
    {
      "cell_type": "markdown",
      "source": [
        "# 5. DataLoader (데이터 배치 로더)\n",
        "`DataLoader`는 전체 데이터셋을 미니 배치로 나누고, 학습 루프에서 효율적으로 데이터를 공급해주는 PyTorch의 핵심 도구입니다."
      ],
      "metadata": {
        "id": "Q9mDwzYUQscu"
      }
    },
    {
      "cell_type": "code",
      "source": [
        "from torch.utils.data import TensorDataset, DataLoader\n",
        "\n",
        "# 학습 데이터 정의\n",
        "X = torch.tensor([[0.0, 0.0], [0.0, 1.0], [1.0, 0.0], [1.0, 1.0]])\n",
        "Y = torch.tensor([[0.0], [1.0], [1.0], [0.0]])\n",
        "\n",
        "# TensorDataset으로 묶고, DataLoader 생성\n",
        "dataset = TensorDataset(X, Y)\n",
        "loader = DataLoader(dataset, batch_size=2, shuffle=True)\n",
        "\n",
        "# 사용 예시\n",
        "for x_batch, y_batch in loader:\n",
        "    print(f\"X: {x_batch}\")\n",
        "    print(f\"Y: {y_batch}\")"
      ],
      "metadata": {
        "colab": {
          "base_uri": "https://localhost:8080/"
        },
        "id": "7w8zJhgLQ2Dy",
        "outputId": "44bc744e-7633-464e-cfb7-fef96d9c4d68"
      },
      "execution_count": 13,
      "outputs": [
        {
          "output_type": "stream",
          "name": "stdout",
          "text": [
            "X: tensor([[1., 0.],\n",
            "        [0., 1.]])\n",
            "Y: tensor([[1.],\n",
            "        [1.]])\n",
            "X: tensor([[1., 1.],\n",
            "        [0., 0.]])\n",
            "Y: tensor([[0.],\n",
            "        [0.]])\n"
          ]
        }
      ]
    },
    {
      "cell_type": "markdown",
      "source": [
        "# 전체 흐름 정리: 간단한 학습 루프 예제"
      ],
      "metadata": {
        "id": "bC1VSpvMSNT4"
      }
    },
    {
      "cell_type": "code",
      "source": [
        "X = torch.tensor([[0.0, 0.0], [0.0, 1.0], [1.0, 0.0], [1.0, 1.0]])\n",
        "Y = torch.tensor([[0.0], [1.0], [1.0], [0.0]])\n",
        "\n",
        "model = MyNet()\n",
        "loss_fn = nn.MSELoss()\n",
        "optimizer = optim.SGD(model.parameters(), lr=0.1)\n",
        "\n",
        "for epoch in range(1000):\n",
        "  pred = model(X)\n",
        "  loss = loss_fn(pred, Y)\n",
        "  optimizer.zero_grad()\n",
        "  loss.backward()\n",
        "  optimizer.step()\n",
        "  if(epoch + 1) % 200 == 0:\n",
        "    print(f\"Epoch {epoch+1}, Loss = {loss.item():.4f}\")"
      ],
      "metadata": {
        "colab": {
          "base_uri": "https://localhost:8080/"
        },
        "id": "ZOEtusjYSQUU",
        "outputId": "d17841c7-d63c-4ba4-c1a3-3b49a8e91981"
      },
      "execution_count": 18,
      "outputs": [
        {
          "output_type": "stream",
          "name": "stdout",
          "text": [
            "Epoch 200, Loss = 0.2532\n",
            "Epoch 400, Loss = 0.2517\n",
            "Epoch 600, Loss = 0.2508\n",
            "Epoch 800, Loss = 0.2504\n",
            "Epoch 1000, Loss = 0.2502\n"
          ]
        }
      ]
    },
    {
      "cell_type": "markdown",
      "source": [
        "# 전체 학습 루프 (DataLoader 포함)"
      ],
      "metadata": {
        "id": "wR29GU0tUE9R"
      }
    },
    {
      "cell_type": "code",
      "source": [
        "model = MyNet()\n",
        "loss_fn = nn.MSELoss()\n",
        "optimizer = optim.SGD(model.parameters(), lr=0.1)\n",
        "\n",
        "for epoch in range(1000):\n",
        "  for x_batch, y_batch in loader:\n",
        "    pred = model(x_batch)\n",
        "    loss = loss_fn(pred, y_batch)\n",
        "    optimizer.zero_grad()\n",
        "    loss.backward()\n",
        "    optimizer.step()\n",
        "\n",
        "  if(epoch + 1) % 200 == 0:\n",
        "    print(f\"Epoch {epoch+1}, Loss = {loss.item():.4f}\")"
      ],
      "metadata": {
        "colab": {
          "base_uri": "https://localhost:8080/"
        },
        "id": "cSohHlHxUIYU",
        "outputId": "7f6285a2-e900-4397-c8ce-77494205a816"
      },
      "execution_count": 19,
      "outputs": [
        {
          "output_type": "stream",
          "name": "stdout",
          "text": [
            "Epoch 200, Loss = 0.2692\n",
            "Epoch 400, Loss = 0.2602\n",
            "Epoch 600, Loss = 0.2608\n",
            "Epoch 800, Loss = 0.2494\n",
            "Epoch 1000, Loss = 0.2589\n"
          ]
        }
      ]
    }
  ]
}